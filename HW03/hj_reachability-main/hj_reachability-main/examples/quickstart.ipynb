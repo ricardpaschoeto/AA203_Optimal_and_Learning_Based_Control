{
 "cells": [
  {
   "cell_type": "markdown",
   "metadata": {},
   "source": [
    "# hj_reachability quickstart\n",
    "\n",
    "Notebook dependencies:\n",
    "- System: python3, ffmpeg (for rendering animations)\n",
    "- Python: jupyter, jax, numpy, matplotlib, plotly, tqdm, hj_reachability\n",
    "\n",
    "Example setup for a Ubuntu system (Mac users, maybe `brew` instead of `sudo apt`; Windows users, learn to love [WSL](https://docs.microsoft.com/en-us/windows/wsl/install-win10)):\n",
    "```\n",
    "sudo apt install ffmpeg\n",
    "/usr/bin/python3 -m pip install --upgrade pip\n",
    "pip install --upgrade jupyter jax jaxlib numpy matplotlib plotly tqdm\n",
    "pip install --upgrade git+https://github.com/StanfordASL/hj_reachability\n",
    "jupyter notebook  # from the directory of this notebook\n",
    "```\n",
    "Alternatively, view this notebook on [Google Colab](https://colab.research.google.com/github/StanfordASL/hj_reachability/blob/main/examples/quickstart.ipynb) and run a cell containing this command:\n",
    "```\n",
    "!pip install --upgrade git+https://github.com/StanfordASL/hj_reachability\n",
    "```"
   ]
  },
  {
   "cell_type": "code",
   "execution_count": null,
   "metadata": {},
   "outputs": [],
   "source": [
    "import jax\n",
    "import jax.numpy as jnp\n",
    "import numpy as np\n",
    "\n",
    "from IPython.display import HTML\n",
    "import matplotlib.animation as anim\n",
    "import matplotlib.pyplot as plt\n",
    "import plotly.graph_objects as go\n",
    "\n",
    "import hj_reachability as hj"
   ]
  },
  {
   "cell_type": "markdown",
   "metadata": {},
   "source": [
    "## Example system: `Air3d`"
   ]
  },
  {
   "cell_type": "code",
   "execution_count": null,
   "metadata": {},
   "outputs": [],
   "source": [
    "dynamics = hj.systems.Air3d()\n",
    "grid = hj.Grid.from_grid_definition_and_initial_values(hj.sets.Box(lo=np.array([-6., -10., 0.]),\n",
    "                                                                   hi=np.array([20., 10., 2 * np.pi])), (51, 40, 50),\n",
    "                                                       periodic_dims=2)\n",
    "values = jnp.linalg.norm(grid.states[..., :2], axis=-1) - 5\n",
    "\n",
    "solver_settings = hj.SolverSettings.with_accuracy(\"very_high\",\n",
    "                                                  hamiltonian_postprocessor=hj.solver.backwards_reachable_tube)"
   ]
  },
  {
   "cell_type": "markdown",
   "metadata": {},
   "source": [
    "### `hj.step`: propagate the HJ PDE from `(time, values)` to `target_time`."
   ]
  },
  {
   "cell_type": "code",
   "execution_count": null,
   "metadata": {},
   "outputs": [],
   "source": [
    "time = 0.\n",
    "target_time = -2.8\n",
    "target_values = hj.step(solver_settings, dynamics, grid, time, values, target_time).block_until_ready()"
   ]
  },
  {
   "cell_type": "code",
   "execution_count": null,
   "metadata": {},
   "outputs": [],
   "source": [
    "plt.jet()\n",
    "plt.figure(figsize=(13, 8))\n",
    "plt.contourf(grid.coordinate_vectors[0], grid.coordinate_vectors[1], target_values[:, :, 30].T)\n",
    "plt.colorbar()\n",
    "plt.contour(grid.coordinate_vectors[0],\n",
    "            grid.coordinate_vectors[1],\n",
    "            target_values[:, :, 30].T,\n",
    "            levels=0,\n",
    "            colors=\"black\",\n",
    "            linewidths=3)"
   ]
  },
  {
   "cell_type": "code",
   "execution_count": null,
   "metadata": {},
   "outputs": [],
   "source": [
    "go.Figure(data=go.Isosurface(x=grid.states[..., 0].ravel(),\n",
    "                             y=grid.states[..., 1].ravel(),\n",
    "                             z=grid.states[..., 2].ravel(),\n",
    "                             value=target_values.ravel(),\n",
    "                             colorscale=\"jet\",\n",
    "                             isomin=0,\n",
    "                             surface_count=1,\n",
    "                             isomax=0))"
   ]
  },
  {
   "cell_type": "markdown",
   "metadata": {},
   "source": [
    "### `hj.solve`: solve for `all_values` at a range of `times` (basically just iterating `hj.step`)."
   ]
  },
  {
   "cell_type": "code",
   "execution_count": null,
   "metadata": {},
   "outputs": [],
   "source": [
    "times = np.linspace(0, -2.8, 57)\n",
    "initial_values = values\n",
    "all_values = hj.solve(solver_settings, dynamics, grid, times, initial_values).block_until_ready()"
   ]
  },
  {
   "cell_type": "code",
   "execution_count": null,
   "metadata": {},
   "outputs": [],
   "source": [
    "vmin, vmax = all_values.min(), all_values.max()\n",
    "levels = np.linspace(round(vmin), round(vmax), round(vmax) - round(vmin) + 1)\n",
    "fig = plt.figure(figsize=(13, 8))\n",
    "\n",
    "\n",
    "def render_frame(i, colorbar=False):\n",
    "    plt.contourf(grid.coordinate_vectors[0],\n",
    "                 grid.coordinate_vectors[1],\n",
    "                 all_values[i, :, :, 30].T,\n",
    "                 vmin=vmin,\n",
    "                 vmax=vmax,\n",
    "                 levels=levels)\n",
    "    if colorbar:\n",
    "        plt.colorbar()\n",
    "    plt.contour(grid.coordinate_vectors[0],\n",
    "                grid.coordinate_vectors[1],\n",
    "                target_values[:, :, 30].T,\n",
    "                levels=0,\n",
    "                colors=\"black\",\n",
    "                linewidths=3)\n",
    "\n",
    "\n",
    "render_frame(0, True)\n",
    "animation = HTML(anim.FuncAnimation(fig, render_frame, all_values.shape[0], interval=50).to_html5_video())\n",
    "plt.close(); animation"
   ]
  },
  {
   "cell_type": "markdown",
   "metadata": {},
   "source": [
    "## Defining your own dynamics: `AccelerationCurvatureCar`"
   ]
  },
  {
   "cell_type": "code",
   "execution_count": null,
   "metadata": {},
   "outputs": [],
   "source": [
    "class AccelerationCurvatureCar(hj.ControlAndDisturbanceAffineDynamics):\n",
    "\n",
    "    def __init__(self,\n",
    "                 max_acceleration=1.,\n",
    "                 max_curvature=1.,\n",
    "                 max_position_disturbance=0.25,\n",
    "                 control_mode=\"min\",\n",
    "                 disturbance_mode=\"max\",\n",
    "                 control_space=None,\n",
    "                 disturbance_space=None):\n",
    "        if control_space is None:\n",
    "            control_space = hj.sets.Box(lo=jnp.array([-max_acceleration, -max_curvature]),\n",
    "                                        hi=jnp.array([max_acceleration, max_curvature]))\n",
    "        if disturbance_space is None:\n",
    "            disturbance_space = hj.sets.Ball(center=jnp.zeros(2), radius=max_position_disturbance)\n",
    "        super().__init__(control_mode, disturbance_mode, control_space, disturbance_space)\n",
    "\n",
    "    def open_loop_dynamics(self, state, time):\n",
    "        _, _, v, q = state\n",
    "        return jnp.array([v * jnp.cos(q), v * jnp.sin(q), 0., 0.])\n",
    "\n",
    "    def control_jacobian(self, state, time):\n",
    "        v = state[2]\n",
    "        return jnp.array([\n",
    "            [0., 0.],\n",
    "            [0., 0.],\n",
    "            [1., 0.],\n",
    "            [0., v],\n",
    "        ])\n",
    "\n",
    "    def disturbance_jacobian(self, state, time):\n",
    "        return jnp.array([\n",
    "            [1., 0.],\n",
    "            [0., 1.],\n",
    "            [0., 0.],\n",
    "            [0., 0.],\n",
    "        ])"
   ]
  },
  {
   "cell_type": "code",
   "execution_count": null,
   "metadata": {},
   "outputs": [],
   "source": [
    "dynamics = AccelerationCurvatureCar()\n",
    "grid = hj.Grid.from_grid_definition_and_initial_values(hj.sets.Box(lo=np.array([-5., -5., -1., -np.pi]),\n",
    "                                                                   hi=np.array([5., 5., 1., np.pi])), (40, 40, 50, 50),\n",
    "                                                       periodic_dims=3)\n",
    "values = jnp.linalg.norm(grid.states[..., :2], axis=-1) - 1\n",
    "\n",
    "solver_settings = hj.SolverSettings.with_accuracy(\"low\")"
   ]
  },
  {
   "cell_type": "code",
   "execution_count": null,
   "metadata": {},
   "outputs": [],
   "source": [
    "# The option `progress_bar=True` slows the computation down a bit, but at least you can see where you are!\n",
    "time = 0.\n",
    "target_time = -2.0\n",
    "target_values = hj.step(solver_settings, dynamics, grid, time, values, target_time, progress_bar=True, compile_loop=False)"
   ]
  },
  {
   "cell_type": "code",
   "execution_count": null,
   "metadata": {},
   "outputs": [],
   "source": [
    "go.Figure(data=go.Isosurface(x=grid.states[:, :, -1, :, 0].ravel(),\n",
    "                             y=grid.states[:, :, -1, :, 1].ravel(),\n",
    "                             z=grid.states[:, :, -1, :, 3].ravel(),\n",
    "                             value=target_values[:, :, -1, :].ravel(),\n",
    "                             colorscale='jet',\n",
    "                             isomin=0,\n",
    "                             surface_count=1,\n",
    "                             isomax=0))"
   ]
  },
  {
   "cell_type": "code",
   "execution_count": null,
   "metadata": {},
   "outputs": [],
   "source": []
  }
 ],
 "metadata": {
  "kernelspec": {
   "display_name": "Python 3",
   "language": "python",
   "name": "python3"
  },
  "language_info": {
   "codemirror_mode": {
    "name": "ipython",
    "version": 3
   },
   "file_extension": ".py",
   "mimetype": "text/x-python",
   "name": "python",
   "nbconvert_exporter": "python",
   "pygments_lexer": "ipython3",
   "version": "3.8.5"
  }
 },
 "nbformat": 4,
 "nbformat_minor": 4
}
